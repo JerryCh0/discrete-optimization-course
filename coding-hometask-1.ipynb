{
 "cells": [
  {
   "cell_type": "markdown",
   "metadata": {
    "deletable": true,
    "editable": true
   },
   "source": [
    "# Задание по курсу «Дискретная оптимизация», МФТИ, весна 2017"
   ]
  },
  {
   "cell_type": "markdown",
   "metadata": {
    "deletable": true,
    "editable": true
   },
   "source": [
    "## Задача 1-1\n",
    "## Bin packing problem: \n",
    "## Даны: \n",
    "* $[w_1, \\dots , w_k], w_i \\in [0, 1]$ — веса грузов  \n",
    "* $n_{bins}$ — количество корзин грузоподъемностью 1.\n",
    "\n",
    "Предполагается, что функция `solve_bp_decision(weights, n_bins)` решает «распознавательный» (decision) вариант задачи bin packing. На вход ей подаётся список весов и число корзин. Функция возвращает булевский ответ на вопрос «можно ли заданные веса раскидать по не более чем `n_bins` контейнерам? Напишите содержимое функции `solve_bp_evaluation`, которая возвращает оптимальное число корзин (решает evaluation variant задачи bin packing) и затем содержимое функции `solve_bp_search`, которая возвращает список номеров корзин, которые при каком-нибудь оптимальном распределении присваиваются весам из списка `weights` (корзины нумеруются с единицы). Каждая из следующих функций должна вызывать предыдущую не более чем полиномиальное число раз."
   ]
  },
  {
   "cell_type": "code",
   "execution_count": null,
   "metadata": {
    "collapsed": false,
    "deletable": true,
    "editable": true
   },
   "outputs": [],
   "source": [
    "flag = False\n",
    "\n",
    "\n",
    "# weights are sorted descending -- for easier removing least elements\n",
    "def gen(sorted_weights: list, available_capacities: list):\n",
    "    global flag\n",
    "\n",
    "    if len(sorted_weights) == 0:\n",
    "        flag = True\n",
    "        return\n",
    "\n",
    "    to_put = sorted_weights[-1]\n",
    "    for i, bin_capacity in enumerate(available_capacities):\n",
    "        if bin_capacity >= to_put:\n",
    "            available_capacities[i] -= to_put\n",
    "            gen(sorted_weights[:-1], available_capacities)\n",
    "            if flag:\n",
    "                return True\n",
    "            available_capacities[i] += to_put\n",
    "\n",
    "\n",
    "def solve_bp_decision(weights: list, n_bins: int) -> bool:\n",
    "    global flag\n",
    "    flag = False\n",
    "\n",
    "    sorted_weights = sorted(weights, reverse=True)\n",
    "    gen(sorted_weights, [1 for i in range(n_bins)])\n",
    "\n",
    "    return flag\n",
    "\n",
    "\n",
    "def solve_bp_evaluation(weights: list) -> int:\n",
    "#   <...>\n",
    "#   return min_n_bins\n",
    "    pass\n",
    "\n",
    "\n",
    "def solve_bp_search(weights:list):\n",
    "#     … your code here\n",
    "#     return solution # list\n",
    "    pass"
   ]
  },
  {
   "cell_type": "code",
   "execution_count": null,
   "metadata": {
    "collapsed": true,
    "deletable": true,
    "editable": true
   },
   "outputs": [],
   "source": [
    ""
   ]
  }
 ],
 "metadata": {
  "kernelspec": {
   "display_name": "Python 3",
   "language": "python",
   "name": "python3"
  },
  "language_info": {
   "codemirror_mode": {
    "name": "ipython",
    "version": 3.0
   },
   "file_extension": ".py",
   "mimetype": "text/x-python",
   "name": "python",
   "nbconvert_exporter": "python",
   "pygments_lexer": "ipython3",
   "version": "3.5.2"
  }
 },
 "nbformat": 4,
 "nbformat_minor": 0
}